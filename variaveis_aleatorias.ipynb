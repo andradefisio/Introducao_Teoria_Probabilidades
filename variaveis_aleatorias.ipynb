{
  "nbformat": 4,
  "nbformat_minor": 0,
  "metadata": {
    "colab": {
      "provenance": [],
      "authorship_tag": "ABX9TyNuOUNOkL8mQlucyxPGPhkD",
      "include_colab_link": true
    },
    "kernelspec": {
      "name": "python3",
      "display_name": "Python 3"
    },
    "language_info": {
      "name": "python"
    }
  },
  "cells": [
    {
      "cell_type": "markdown",
      "metadata": {
        "id": "view-in-github",
        "colab_type": "text"
      },
      "source": [
        "<a href=\"https://colab.research.google.com/github/andradefisio/Introducao_Teoria_Probabilidades/blob/main/variaveis_aleatorias.ipynb\" target=\"_parent\"><img src=\"https://colab.research.google.com/assets/colab-badge.svg\" alt=\"Open In Colab\"/></a>"
      ]
    },
    {
      "cell_type": "markdown",
      "source": [],
      "metadata": {
        "id": "mhCUThEpP4bZ"
      }
    },
    {
      "cell_type": "markdown",
      "source": [
        "Um jogador paga 5 reais para participar de um jogo de dados, disputando com um oponente quem tem o \"ponto\" (maior número no lançamento do dados). Cd um lança o seu respectivo dado e a seguinte regra de premiação é estabelecida:\n",
        "\n",
        "\n",
        "\n",
        "*   Se o pto do jogador é >, ele ganha 2 x a diferenaç entre o seu ponto e o ponto do oponente;\n",
        "\n",
        "*   Se o ponto do jogado é < ou = ao do oponente, ele não ganha nada;\n",
        "\n",
        "A pergunta:\n",
        "ESSE JOGO É FAVORÁVEL AO JOGADOR? "
      ],
      "metadata": {
        "id": "PHMupeNJP8C1"
      }
    },
    {
      "cell_type": "code",
      "execution_count": 7,
      "metadata": {
        "colab": {
          "base_uri": "https://localhost:8080/"
        },
        "id": "nsnUTiaqNCSq",
        "outputId": "401d3bf2-0ad2-4c2d-f459-d28d5d5e20fd"
      },
      "outputs": [
        {
          "output_type": "stream",
          "name": "stdout",
          "text": [
            "Valor da aposta:  5 reais.\n",
            "valor teórico de probabilidade:  0.16666666666666666\n",
            "Chance de lucro 0.16571\n"
          ]
        }
      ],
      "source": [
        "from random import randint\n",
        "aposta = 5\n",
        "num_simulacoes = 100000 #numero jogos\n",
        "\n",
        "p = 0\n",
        "\n",
        "for n in range(1, num_simulacoes):\n",
        "    G = 0\n",
        "    Y = randint(1,6) # valor obtido no dado do jogador\n",
        "    X = randint(1,6) # valor obtido no dado do oponente\n",
        "\n",
        "    if (Y > X):\n",
        "        G = 2*(Y-X)\n",
        "    \n",
        "    if (G > aposta):\n",
        "        p = p + 1\n",
        "p = p/num_simulacoes # probabilidade de ter lucro\n",
        "\n",
        "print(\"Valor da aposta: \", aposta, \"reais.\")\n",
        "print(\"valor teórico de probabilidade: \", 1/6)\n",
        "print(\"Chance de lucro\", p)"
      ]
    }
  ]
}